{
 "cells": [
  {
   "cell_type": "markdown",
   "metadata": {},
   "source": [
    "# Movie Text Classification of Multi-labeled Genres \n",
    "- Given the movie dialog corpus, extract features\n",
    "- Using the extracted features and accompanying genre labels, build a classifier\n",
    "\n",
    "## Flowchart of the classifier train and test\n",
    "- Each flow has a footnote matched with code blocks\n",
    "\n",
    "![overview](png/overview.png)\n",
    "\n",
    "## Code and Explanation\n",
    "- Basically, I commented on the code line and executed them in advance.\n",
    "- If I need to explain the details, I added a description to the markdown formatted box below each code."
   ]
  },
  {
   "cell_type": "code",
   "execution_count": 1,
   "metadata": {},
   "outputs": [],
   "source": [
    "import collections\n",
    "import nltk\n",
    "import numpy as np\n",
    "from nltk.corpus import stopwords\n",
    "from nltk.stem import WordNetLemmatizer\n",
    "import sklearn.metrics as metrics\n",
    "from sklearn.feature_extraction.text import TfidfTransformer\n",
    "from sklearn import svm\n",
    "from sklearn.metrics import accuracy_score\n",
    "from sklearn.preprocessing import MultiLabelBinarizer\n",
    "from skmultilearn.problem_transform import BinaryRelevance\n",
    "from nltk.tokenize import RegexpTokenizer\n",
    "from sklearn.model_selection import train_test_split\n",
    "from sklearn.feature_selection import SelectKBest\n",
    "from sklearn.feature_selection import chi2\n",
    "import matplotlib.pyplot as plt\n",
    "import seaborn as sns\n",
    "\n",
    "# Some of nltk needs to be downloaded for re-executing in the local setting\n",
    "# e.g. nltk.download('stopwords')"
   ]
  },
  {
   "cell_type": "code",
   "execution_count": 2,
   "metadata": {},
   "outputs": [
    {
     "name": "stdout",
     "output_type": "stream",
     "text": [
      "Sample data of 'movie_genres'\n",
      "\t> key(movie_id): 'm0'\n",
      "\t> value(a set of movie genre labels): {'romance', 'comedy'}\n"
     ]
    }
   ],
   "source": [
    "def load_genres(file_name: str) -> dict:\n",
    "    \"\"\" Load label(genres) from meta file\n",
    "        \n",
    "    Parameters:\n",
    "    file_name (str): input file of meta texts included\n",
    "    \n",
    "    Returns:\n",
    "    movie_genre(dict): key(str) - movie_id, value(set) - a set of movie genre labels\n",
    "                       e.g. {movie_id:{'comedy', 'romance', ...}, ...}\n",
    "    \n",
    "    \"\"\"\n",
    "    movie_genres = {}\n",
    "    with open(file_name, 'r', encoding='utf-8') as f:\n",
    "        for line in f:\n",
    "            values = [value.strip() for value in line.split(\" +++$+++ \")]\n",
    "            if len(values) < 6:\n",
    "                continue\n",
    "            genres = values[5].strip('][').replace(\"'\", '').split(', ')\n",
    "            movie_genres[values[0]] = set([g for g in genres if g])\n",
    "    return movie_genres\n",
    "\n",
    "\"\"\"\n",
    "sample line of metafile 'data/movie_titles_metadata.txt':\n",
    "    fields: \"movie_id\", \"title\", \"year\", \"score\", \"rating\", \"genres\"\n",
    "    m0 +++$+++ 10 things i hate about you +++$+++ 1999 +++$+++ 6.90 +++$+++ 62847 +++$+++ ['comedy', 'romance'] \n",
    "\"\"\"\n",
    "movie_genres = load_genres(\"data/movie_titles_metadata.txt\")\n",
    "\n",
    "print(\"Sample data of 'movie_genres'\")\n",
    "print(\"\\t> key(movie_id): 'm0'\\n\\t> value(a set of movie genre labels): \" + str(movie_genres['m0']))"
   ]
  },
  {
   "cell_type": "code",
   "execution_count": 3,
   "metadata": {},
   "outputs": [],
   "source": [
    "word_tokenizer = RegexpTokenizer(r'\\w+|\\$[\\d\\.]+|\\S+')\n",
    "word_lemmatizer = WordNetLemmatizer()\n",
    "\n",
    "def process_text(line: str) -> tuple:\n",
    "    \"\"\" Converts a raw text input to parsed patterns\n",
    "    \n",
    "    Parameters:\n",
    "    line (str): a raw text input\n",
    "    \n",
    "    Returns:\n",
    "    raw_words, pos_words, ne_words (tuple): tuple of (word_token, word_token/POS_tag, NE_word/NE_tag)\n",
    "    \n",
    "    \"\"\"\n",
    "    sentence = line\n",
    "    tokens = word_tokenizer.tokenize(line)\n",
    "    pos_tokens = nltk.pos_tag(tokens)\n",
    "    ne_tokens = nltk.ne_chunk(pos_tokens, binary=False)\n",
    "    ne_words = []\n",
    "    for ne_chunk in ne_tokens:\n",
    "        if type(ne_chunk) == nltk.tree.Tree:\n",
    "            ne = \"_\".join([token for token, pos in ne_chunk.leaves()])\n",
    "            # creates NE_word/NE_tag patterns\n",
    "            ne_words.append(ne + '/' + ne_chunk.label())\n",
    "    words_pos = [(word, pos) for word, pos in pos_tokens if word.isalpha()]\n",
    "    stop_words = set(stopwords.words('english'))\n",
    "    # creates lower-cased, stopwords removed word_token/POS_tag patterns\n",
    "    words_pos = [(word, pos) for word, pos in words_pos if not word.lower() in stop_words]\n",
    "    pos_words = [word_lemmatizer.lemmatize(word) + '/' + pos for word, pos in words_pos]\n",
    "    # creates lower-cased, lemmatized word_token patterns\n",
    "    raw_words = str(word_lemmatizer.lemmatize(sentence.lower())).split()\n",
    "    \n",
    "    return raw_words, pos_words, ne_words"
   ]
  },
  {
   "cell_type": "code",
   "execution_count": 4,
   "metadata": {},
   "outputs": [
    {
     "name": "stdout",
     "output_type": "stream",
     "text": [
      "Sample data of 'movie_texts'\n",
      "\t> key(movie_id): 'm0'\n",
      "\t> value(tuple of 3 parsed patterns lists): ([they, do, not!, they, do, ...], [hope/VBP, okay/VBD, Let/NNP, go/VB, Wow/NNP, ...], [Wow_Okay/PERSON, Thank_God/PERSON, Guillermo/PERSON, Lesbian/PERSON, Jared_Leto/PERSON, ...])\n"
     ]
    }
   ],
   "source": [
    "def load_processed_lines(file_name: str) -> dict:\n",
    "    \"\"\" Load parsed patterns of each movie data to the dict\n",
    "        \n",
    "    Parameters:\n",
    "    file_name (str): input file name\n",
    "    \n",
    "    Returns:\n",
    "    movie_texts(dict): key(str) - movie_id, value(tuple of 3 list) - word_token, word_token/POS_tag, NE_word/NE_tag\n",
    "                       e.g. {m0:([they, do, not!, they, do, to!, ...], [hope/VBP, okay/VBD, ...], [jenny_kim/PERSON, ...])}\n",
    "    \n",
    "    \"\"\"\n",
    "    movie_sentences = collections.defaultdict(list)\n",
    "    movie_texts = {}\n",
    "    with open(file_name, 'r', encoding='iso-8859-1') as f:\n",
    "        for line in f:\n",
    "            values = [value.strip() for value in line.split(\" +++$+++ \")]\n",
    "            if len(values) < 5:\n",
    "                continue\n",
    "            movie_sentences[values[2]] += [values[4]]\n",
    "    for id, text in movie_sentences.items():\n",
    "        # process raw text to extract patterns using process_text method\n",
    "        movie_texts[id] = process_text(' '.join(text))\n",
    "    return movie_texts\n",
    "\n",
    "\"\"\"\n",
    "sample of raw text file 'data/movie_lines.txt':\n",
    "    fields: \"line_id\", \"character_id\", \"movie_id\", \"character\", \"text\"\n",
    "    L1045 +++$+++ u0 +++$+++ m0 +++$+++ BIANCA +++$+++ They do not!\n",
    "\"\"\"\n",
    "movie_texts = load_processed_lines(\"data/movie_lines.txt\")\n",
    "\n",
    "print(\"Sample data of 'movie_texts'\")\n",
    "print(\"\\t> key(movie_id): 'm0'\\n\\t> value(tuple of 3 parsed patterns lists): \", end='')\n",
    "print(\"([\", end='')\n",
    "for i in range(5):\n",
    "    print(str(movie_texts['m0'][0][i]), end=', ')\n",
    "print(\"...], [\", end='')\n",
    "for i in range(5):\n",
    "    print(str(movie_texts['m0'][1][i]), end=', ')\n",
    "print(\"...], [\", end='')\n",
    "for i in range(5):\n",
    "    print(str(movie_texts['m0'][2][i]), end=', ')\n",
    "print(\"...])\")"
   ]
  },
  {
   "cell_type": "code",
   "execution_count": 5,
   "metadata": {},
   "outputs": [
    {
     "name": "stdout",
     "output_type": "stream",
     "text": [
      "Size of features_X: 617(# of data) * NOT_FIXED(# of candidates features in each movie)\n",
      "\n",
      "Sample data of 'features_X' and 'features_Y'\n",
      "\t> Size of sample data 'features_X[0]'(m0): 1 * 7998(# of candidates features of m0)\n",
      "\t> m0 'feature_Y'(label): {'romance', 'comedy'}\n",
      "\t> m0 'features_X': [they_do, do_not!, not!_they, they_do, do_to!, to!_i, i_hope, hope_so., so._she, she_okay?, ...]\n"
     ]
    }
   ],
   "source": [
    "features_X = []\n",
    "features_Y = []\n",
    "\n",
    "def extract_candi_features_from_patterns():\n",
    "    \"\"\" Extracts candidates feature as needed from parsed patterns in movie_texts(dict)\n",
    "    \n",
    "    features_X (list of list): extracted candidates feature of each movie\n",
    "                              e.g. [[lovey_dovey, Jolly/NNP, LG/ORGANIZATION, ...], ...]\n",
    "    features_Y (list of list): genre labels of each movie\n",
    "                              e.g. [['romance', 'comedy'], ...]\n",
    "    \n",
    "    \"\"\"\n",
    "    for movie_id, words in movie_texts.items():\n",
    "        \"\"\" Extracts candidates feature as needed of each movie: bigram, POS, NE\n",
    "        words[0](n-gram): Extract bigram feature using word_token patterns(It can be used to extract n-gram feature though)\n",
    "                          e.g. [lovey, dovey, ...] => [lovey_dovey, ...]\n",
    "        words[1](POS): word_token with Part-Of-Speech tagged patterns\n",
    "                       e.g. [Jolly/NNP, jolly/JJ, ...]\n",
    "        words[2](NE): Extract word_token with NE tagged feature\n",
    "                      e.g. [LG/ORGANIZATION, ...]\n",
    "        \"\"\"\n",
    "        features_X.append(['_'.join(b) for b in nltk.bigrams(words[0])] + \n",
    "                         words[1] + words[2])\n",
    "    for movie_id, genre in movie_genres.items():\n",
    "        features_Y.append(genre)\n",
    "\n",
    "extract_candi_features_from_patterns()\n",
    "\n",
    "print(\"Size of features_X: \" + str(len(features_X)) + \"(# of data) * NOT_FIXED(# of candidates features in each movie)\\n\")\n",
    "print(\"Sample data of 'features_X' and 'features_Y'\")\n",
    "print(\"\\t> Size of sample data 'features_X[0]'(m0): 1 * {}(# of candidates features of m0)\".format(len(features_X[0])))\n",
    "print(\"\\t> m0 'feature_Y'(label): \" + str(features_Y[0]))\n",
    "print(\"\\t> m0 'features_X': \", end='')\n",
    "print(\"[\", end='')\n",
    "for i in range(10):\n",
    "    print(str(features_X[0][i]), end=', ')\n",
    "print(\"...]\")"
   ]
  },
  {
   "cell_type": "code",
   "execution_count": 6,
   "metadata": {},
   "outputs": [
    {
     "name": "stdout",
     "output_type": "stream",
     "text": [
      "Number of train data: 555\n",
      "Number of test data: 62\n"
     ]
    }
   ],
   "source": [
    "# Ratio of Train/Test data set = 9:1\n",
    "feed_X, feed_X_test, feed_Y, feed_Y_test = train_test_split(features_X, features_Y, \n",
    "                                                            test_size=0.1, random_state=43)\n",
    "print(\"Number of train data: \" + str(len(feed_X)))\n",
    "print(\"Number of test data: \" + str(len(feed_X_test)))"
   ]
  },
  {
   "cell_type": "code",
   "execution_count": 7,
   "metadata": {},
   "outputs": [
    {
     "name": "stdout",
     "output_type": "stream",
     "text": [
      "Size of feature dictionary: 1098953\n"
     ]
    }
   ],
   "source": [
    "feature_to_idx = {}\n",
    "idx_to_feature = {}\n",
    "\n",
    "def build_feature_dictionary() -> dict:\n",
    "    \"\"\" Build a feature dictionary with train data\n",
    "        \n",
    "    feature_to_idx (dict): dictionary of feature(key), index(value)\n",
    "                                  e.g. {I/NNP:0, LG/ORGANIZATION:1, ...}\n",
    "    idx_to_feature (dict): dictionary of index(key), feature(value)\n",
    "                                  e.g. {0:I/NNP, 1:LG/ORGANIZATION, ...}    \n",
    "    \"\"\"\n",
    "    idx = 0\n",
    "    for sentence_words in feed_X:\n",
    "        for word in sentence_words:\n",
    "            if word not in feature_to_idx:\n",
    "                feature_to_idx[word] = idx\n",
    "                idx += 1\n",
    "    return dict([(value, key) for key, value in feature_to_idx.items()])\n",
    "\n",
    "idx_to_feature = build_feature_dictionary()\n",
    "feature_size = len(idx_to_feature)\n",
    "print(\"Size of feature dictionary: {}\".format(feature_size))"
   ]
  },
  {
   "cell_type": "markdown",
   "metadata": {},
   "source": [
    "## Description of Extracted Features\n",
    "   - **N-grams**\n",
    "     - **Bi-gram**: A bi-gram feature is used to give information about the local context or order of words. Because the bi-gram needs to contain the previous word's context in the dialog, I recommend not to remove anything and only converting them to lowercase with lemmatizing. It can be extended to n-gram features to see more context. e.g. lovey_dovey\n",
    "        - Convert to lowercase letters\n",
    "        - Lemmatized forms of all words\n",
    "   - **Part-Of-Speech tags**\n",
    "     - **Word token with POS**: A word token is a basic way of extracting features from the text which does not care about the order or grammar. It is normally used after pre-processing the text as removing special characters, stopwords(meaningless word set) and lemmatizing them. To let the machine knows the different meaning of watch(wearing) and watch(see), It can be used with Part-Of-Speech tags(e.g. watch/NN, watch/VB).  e.g. Jolly/NNP, jolly/JJ\n",
    "        - Lemmatized forms of all words\n",
    "        - Removed special characters and stopwords\n",
    "        - Part-Of-Speech tagged \n",
    "   - **Named Entity(NE) tags**\n",
    "     - **Named Entity text with 6 NE tags below**: A Named Entities are useful information about proper nouns. With this feature, the machine knows whether the word 'LG' is 'ORGANIZATION' or not.  e.g. LG/ORGANIZATION\n",
    "        - FACILITY\n",
    "        - GPE: Geo-Political Entity\n",
    "        - GSP: Geographical-Social-Political Entity\n",
    "        - LOCATION\n",
    "        - ORGANIZATION\n",
    "        - PERSON      \n",
    "\n",
    "## Statistics of Features\n",
    "   - The dimension of the extracted features: 1,098,953\n",
    "   - Curse of dimensionality: Need to select useful features and reduce feature dimensionality(Feature selection)"
   ]
  },
  {
   "cell_type": "code",
   "execution_count": 8,
   "metadata": {},
   "outputs": [
    {
     "name": "stdout",
     "output_type": "stream",
     "text": [
      "Sample data of 'cnt_X': [1. 1. 1. ... 0. 0. 0.]\n",
      "\n",
      "Size of 'cnt_X': 555(# of data) * 1098953(# of features)\n"
     ]
    }
   ],
   "source": [
    "def bag_of_feature(feature_map: dict, feed_data: list):\n",
    "    \"\"\" Count feature frequency of each movie\n",
    "        \n",
    "    Parameters:\n",
    "    feature_map (str): A dictionary of features to look-up\n",
    "    feed_data (dict): listed features of each movie\n",
    "                      e.g. [[lovey_dovey, Jolly/NNP, LG/ORGANIZATION, ...], ...]\n",
    "                      \n",
    "    Returns:\n",
    "    cnt_array(list of list): counted number of feature appeared in each movie\n",
    "                             e.g. [[1, 0, 5, ...], ...]\n",
    "    \n",
    "    \"\"\"\n",
    "    cnt_array = np.zeros((len(feed_data), len(feature_to_idx)))\n",
    "    for i, v in enumerate(feed_data):\n",
    "        for word in v:\n",
    "            if word in feature_map:\n",
    "                cnt_array[i][feature_map[word]] += 1\n",
    "    return cnt_array\n",
    "\n",
    "cnt_X = bag_of_feature(feature_to_idx, feed_X)\n",
    "\n",
    "print(\"Sample data of 'cnt_X': \" + str(cnt_X[0]) + \"\\n\")\n",
    "print(\"Size of 'cnt_X': \" + str(len(cnt_X))+ \"(# of data) * \" + str(len(cnt_X[0])) + \"(# of features)\")"
   ]
  },
  {
   "cell_type": "code",
   "execution_count": 9,
   "metadata": {},
   "outputs": [
    {
     "name": "stdout",
     "output_type": "stream",
     "text": [
      "Size of 'binary_labels': 24 * 555\n",
      "\n",
      "Sample data of 'binary_labels'\n",
      "\t> The 'adventure' movie data with index set to 1 among all movie data: [0, 1, 0, 0, 0, 0, 0, 0, 0, 0, 0, 0, 0, 0, 0, 0, 0, 0, 0, 0, 0, 1, 0, 0, 1, 0, 0, 0, 0, 0, 1, 0, 0, 0, 0, 1, 0, 0, 0, 0, 0, 1, 1, 0, 0, 1, 0, 0, 0, 0, 0, 0, 0, 1, 0, 0, 0, 0, 0, 0, 0, 1, 0, 1, 0, 0, 0, 0, 0, 0, 0, 1, 0, 0, 0, 0, 0, 0, 0, 0, 1, 1, 0, 0, 0, 0, 0, 0, 1, 0, 0, 0, 0, 0, 0, 0, 0, 0, 0, 0, 0, 1, 0, 1, 0, 0, 0, 0, 0, 0, 0, 0, 0, 0, 1, 0, 0, 0, 0, 0, 1, 0, 0, 0, 0, 0, 0, 0, 0, 0, 0, 0, 0, 0, 0, 1, 0, 1, 1, 0, 0, 0, 0, 0, 0, 0, 1, 0, 0, 0, 0, 1, 0, 1, 0, 0, 0, 0, 1, 1, 0, 0, 0, 1, 0, 1, 0, 0, 0, 0, 0, 0, 0, 0, 0, 0, 0, 1, 0, 0, 0, 0, 0, 0, 1, 0, 0, 0, 0, 1, 0, 1, 0, 0, 0, 0, 0, 0, 0, 1, 0, 0, 0, 0, 0, 0, 0, 0, 0, 0, 0, 0, 0, 0, 0, 0, 0, 0, 0, 0, 0, 0, 0, 0, 0, 0, 0, 0, 1, 1, 0, 0, 1, 0, 0, 0, 0, 1, 0, 0, 0, 0, 0, 0, 1, 1, 0, 0, 0, 0, 0, 0, 0, 0, 1, 0, 1, 1, 0, 0, 0, 0, 0, 0, 1, 0, 0, 0, 0, 0, 1, 1, 0, 1, 0, 0, 0, 0, 0, 0, 0, 0, 0, 0, 0, 0, 0, 0, 0, 0, 0, 0, 1, 0, 0, 0, 0, 0, 0, 1, 1, 1, 0, 0, 0, 0, 0, 1, 0, 0, 0, 0, 0, 0, 0, 0, 1, 0, 0, 1, 0, 0, 0, 0, 0, 0, 0, 0, 1, 0, 0, 0, 0, 0, 0, 0, 0, 0, 0, 0, 0, 0, 0, 0, 0, 0, 0, 0, 0, 0, 0, 1, 0, 0, 1, 0, 1, 1, 0, 0, 1, 0, 0, 0, 0, 1, 0, 0, 0, 0, 1, 0, 0, 0, 0, 0, 0, 0, 1, 1, 0, 1, 1, 0, 0, 0, 0, 0, 0, 0, 0, 0, 0, 0, 0, 0, 0, 1, 0, 0, 0, 0, 1, 0, 0, 0, 0, 1, 0, 0, 0, 0, 0, 0, 0, 0, 0, 0, 0, 0, 0, 0, 0, 0, 1, 1, 0, 0, 1, 0, 0, 1, 0, 0, 0, 0, 0, 0, 0, 0, 0, 0, 0, 1, 0, 0, 0, 0, 0, 0, 1, 0, 1, 0, 0, 0, 0, 0, 0, 0, 0, 0, 0, 1, 1, 0, 0, 0, 0, 0, 1, 0, 0, 0, 0, 0, 0, 0, 0, 0, 0, 0, 0, 0, 0, 0, 0, 1, 1, 1, 0, 0, 0, 0, 1, 0, 0, 0, 0, 0, 0, 0, 0, 0, 0, 0, 1, 1, 0, 0, 0, 0, 1, 1, 0, 0, 1, 0, 1, 1, 0, 0, 0, 0, 0, 0, 0, 0, 0, 0, 1, 0, 0, 1, 0, 0, 0, 0, 0, 0, 0, 0, 0, 0, 0, 0, 1, 1, 0, 0, 0, 1, 0, 1, 0]\n"
     ]
    }
   ],
   "source": [
    "genres = ['adventure', 'music', 'action', 'biography',\n",
    "           'sport', 'thriller', 'short', 'fantasy',\n",
    "           'war', 'mystery', 'musical', 'animation',\n",
    "           'adult', 'sci-fi', 'film-noir', 'documentary',\n",
    "           'horror', 'comedy', 'crime', 'romance',\n",
    "           'western', 'family', 'history', 'drama']\n",
    "\n",
    "mlb = MultiLabelBinarizer(classes=genres)\n",
    "genre_labels = mlb.fit_transform(feed_Y)\n",
    "\"\"\"Converts intuitive format of labels to supported multilabel binary format\n",
    "   example of genre_lavels:\n",
    "       ['romance', 'comedy'] => [0, 0, 0, 0, 0, 0, 0, 0, 0, 0, 0, 0, 0, 0, 0, 0, 0, 1, 0, 1, 0, 0, 0, 0]\n",
    "\"\"\"\n",
    "binary_labels = [list(i) for i in zip(*genre_labels)]\n",
    "\"\"\"Transpose genre_levels to get all data of index which are belonging to each genre \n",
    "\"\"\"\n",
    "\n",
    "print(\"Size of 'binary_labels': \" + str(len(binary_labels)) + \" * \" + str(len(binary_labels[0])) + \"\\n\")\n",
    "print(\"Sample data of 'binary_labels'\")\n",
    "print(\"\\t> The 'adventure' movie data with index set to 1 among all movie data: \" + str(binary_labels[0]))"
   ]
  },
  {
   "cell_type": "code",
   "execution_count": 10,
   "metadata": {},
   "outputs": [
    {
     "name": "stdout",
     "output_type": "stream",
     "text": [
      "Size of chi_score: 24(# of labels) * 1098953(# of features)\n",
      "\n",
      "Example of chi-square score of each features in 'adventure' genre: [2.0915032679738563, 0.20915032679738563, 0.20915032679738563, 0.20915032679738563, 0.6274509803921569, 5.394542597131446, 3.6875656512605044, 2.896030415090013, 2.735337941051262, 0.20915032679738563, ...]\n"
     ]
    }
   ],
   "source": [
    "chi_score = []\n",
    "\n",
    "def multilabel_chi2():\n",
    "    \"\"\" Using a bag of features and binary_labels, calculate the Chi-square score of each feature\n",
    "    \n",
    "    chi_score(list of list): calculated Chi-square score of each feature and each genre\n",
    "                             e.g. [[0.4, 0.3, ...], [0.5, 0.1, ...], ...]\n",
    "    \n",
    "    \"\"\"\n",
    "    for l in range(len(genre_labels[0])):\n",
    "        # iterate single chi-square number of labels.\n",
    "        k_best = SelectKBest(chi2, k='all')\n",
    "        k_best.fit(cnt_X, binary_labels[l])\n",
    "        chi_score.append(list(k_best.scores_))\n",
    "\n",
    "multilabel_chi2()\n",
    "\n",
    "print(\"Size of chi_score: \" + str(len(chi_score)) + \"(# of labels) * \" + str(len(chi_score[0])) + \"(# of features)\\n\")\n",
    "print(\"Example of chi-square score of each features in 'adventure' genre: [\", end='')\n",
    "for i in range(10):\n",
    "    print(chi_score[0][i], end=', ')\n",
    "print(\"...]\")"
   ]
  },
  {
   "cell_type": "markdown",
   "metadata": {},
   "source": [
    "## Feature Selection Using Chi-square statistic\n",
    "\n",
    "- **Chi-square statistic for multi-label text**\n",
    "    - One movie data is considered one document.\n",
    "    - One of class-dependent term(feature) importance measuring methods\n",
    "    - Single-label Chi-square statistics formula\n",
    "      (N:document, c: class, t: term(feature)) ![chi_square](png/chi_square.png)\n",
    "    - Multi-label Chi-square method: Iterates a single chi-square calculation as many as the num of all labels(24) and averages them. It references from [here](http://lpis.csd.auth.gr/publications/spolaor-bioasq.pdf)\n",
    "    - Known as better than mutual information or information gain methods\n",
    "    - The dimension of the selected features: 100,034\n",
    "    - The threshold is decided empirically(using a development set included in the train set)"
   ]
  },
  {
   "cell_type": "code",
   "execution_count": 11,
   "metadata": {},
   "outputs": [
    {
     "name": "stdout",
     "output_type": "stream",
     "text": [
      "Size of selected feature: 100034\n",
      "Reduced 998919 features using the chi-square method\n",
      "\n",
      "Sample data of 'cnt_X_train': [ 1.  8. 11. ...  0.  0.  0.]\n",
      "Size of 'cnt_X_train': 555(# of data) * 100034(# of features)\n",
      "\n",
      "Sample data of 'cnt_X_test': [0. 0. 2. ... 0. 0. 0.]\n",
      "Size of 'cnt_X_test': 62(# of data) * 100034(# of features)\n"
     ]
    }
   ],
   "source": [
    "threshold = 2.5\n",
    "# get mean of chi_score of each feature and select features which have a higher score than the threshold\n",
    "selected_features_mean = np.mean(chi_score, axis=0) > threshold\n",
    "# get feature indexes which are not selected by chi-square score \n",
    "false_feature = [i for i, x in enumerate(selected_features_mean) if not x]\n",
    "# pop all features which are in false_feature\n",
    "for i in false_feature:\n",
    "    result = idx_to_feature.pop(i, None)\n",
    "    feature_to_idx.pop(result, None)\n",
    "\n",
    "# new feature dictionary with selected features\n",
    "selected_idx_to_feature = {i: word for i, word in enumerate(idx_to_feature.values())}\n",
    "selected_feature_to_idx = dict([(value, key) for key, value in selected_idx_to_feature.items()])\n",
    "print(\"Size of selected feature: \" + str(len(selected_idx_to_feature)))\n",
    "print(\"Reduced {} features using the chi-square method\\n\".format(feature_size - len(selected_idx_to_feature)))\n",
    "\n",
    "# bag of feature with new selected feature dictionary\n",
    "cnt_X_train = bag_of_feature(selected_feature_to_idx, feed_X)\n",
    "cnt_X_test = bag_of_feature(selected_feature_to_idx, feed_X_test)\n",
    "\n",
    "print(\"Sample data of 'cnt_X_train': \" + str(cnt_X_train[0]))\n",
    "print(\"Size of 'cnt_X_train': \" + str(len(cnt_X_train))+ \"(# of data) * \" + str(len(cnt_X_train[0])) + \"(# of features)\\n\")\n",
    "print(\"Sample data of 'cnt_X_test': \" + str(cnt_X_test[0]))\n",
    "print(\"Size of 'cnt_X_test': \" + str(len(cnt_X_test))+ \"(# of data) * \" + str(len(cnt_X_test[0])) + \"(# of features)\")"
   ]
  },
  {
   "cell_type": "code",
   "execution_count": 12,
   "metadata": {},
   "outputs": [],
   "source": [
    "tfidf_vec = TfidfTransformer()\n",
    "# Fit train data to TF-IDF model and transform\n",
    "tfidf_train = tfidf_vec.fit_transform(cnt_X_train)\n",
    "# Transform test data using a TF-IDF model fit with train data\n",
    "tfidf_test = tfidf_vec.transform(cnt_X_test)\n",
    "X_train = tfidf_train.toarray()\n",
    "X_test = tfidf_test.toarray()"
   ]
  },
  {
   "cell_type": "markdown",
   "metadata": {},
   "source": [
    "## Feature Weights\n",
    "\n",
    "- **TF-IDF(Term Frequency - Inverse Document Frequency)**: \n",
    "    - One movie data is considered one document.\n",
    "    - A high value is measured when words appear intensively in a small number of documents\n",
    "    - With the selected features, caculate TF-IDF\n",
    "    - Each document(movie) vectors are normalized with L2 norm while calculating TF-IDF\n"
   ]
  },
  {
   "cell_type": "code",
   "execution_count": 13,
   "metadata": {},
   "outputs": [],
   "source": [
    "\"\"\" Converts intuitive format of labels in train, test data to supported multilabel binary format\n",
    "    example of genre_lavels:\n",
    "       ['romance', 'comedy'] => [0, 0, 0, 0, 0, 0, 0, 0, 0, 0, 0, 0, 0, 0, 0, 0, 0, 1, 0, 1, 0, 0, 0, 0]\n",
    "\"\"\"\n",
    "Y_train = mlb.fit_transform(feed_Y)\n",
    "Y_test = mlb.transform(feed_Y_test)"
   ]
  },
  {
   "cell_type": "code",
   "execution_count": 14,
   "metadata": {},
   "outputs": [
    {
     "data": {
      "text/plain": [
       "BinaryRelevance(classifier=SVC(C=1.0, break_ties=False, cache_size=200,\n",
       "                               class_weight=None, coef0=0.0,\n",
       "                               decision_function_shape='ovr', degree=3,\n",
       "                               gamma='scale', kernel='linear', max_iter=-1,\n",
       "                               probability=True, random_state=None,\n",
       "                               shrinking=True, tol=0.001, verbose=False),\n",
       "                require_dense=[False, True])"
      ]
     },
     "execution_count": 14,
     "metadata": {},
     "output_type": "execute_result"
    }
   ],
   "source": [
    "\"\"\" BinaryRelevance trains a classifier per each of the labels\n",
    "\"\"\"\n",
    "model = BinaryRelevance(svm.SVC(kernel='linear', probability=True),\n",
    "                        require_dense=[False, True])\n",
    "model.fit(X_train, Y_train)"
   ]
  },
  {
   "cell_type": "markdown",
   "metadata": {},
   "source": [
    "## Classifier\n",
    "\n",
    "- **SVM(Support Vector Machine) for multi-label classify**\n",
    "    - Feed with scaled weights vector(with TF-IDF)\n",
    "    - Works well even if the feature dimension is large\n",
    "    - Binary classification as many as the number of all label(24)\n",
    "    - Another available try: refine parameters, replace kernel functions"
   ]
  },
  {
   "cell_type": "code",
   "execution_count": 15,
   "metadata": {},
   "outputs": [
    {
     "name": "stdout",
     "output_type": "stream",
     "text": [
      "Accuracy of a document-level:\n",
      "\n",
      "Test Loss: 0.09274193548387097\n",
      "Test Accuracy: 12.903225806451612\n",
      "Train Loss: 0.01816816816816817\n",
      "Train Accuracy: 65.04504504504504\n",
      "\n",
      "\n",
      "Accuracy of each genre class:\n",
      "\n",
      "adventure: 82.25806451612904\n",
      "music: 98.38709677419355\n",
      "action: 75.80645161290323\n",
      "biography: 93.54838709677419\n",
      "sport: 98.38709677419355\n",
      "thriller: 80.64516129032258\n",
      "short: 100.0\n",
      "fantasy: 91.93548387096774\n",
      "war: 95.16129032258065\n",
      "mystery: 91.93548387096774\n",
      "musical: 98.38709677419355\n",
      "animation: 96.7741935483871\n",
      "adult: 100.0\n",
      "sci-fi: 83.87096774193549\n",
      "film-noir: 100.0\n",
      "documentary: 100.0\n",
      "horror: 87.09677419354838\n",
      "comedy: 69.35483870967742\n",
      "crime: 91.93548387096774\n",
      "romance: 75.80645161290323\n",
      "western: 98.38709677419355\n",
      "family: 98.38709677419355\n",
      "history: 98.38709677419355\n",
      "drama: 70.96774193548387\n"
     ]
    }
   ],
   "source": [
    "prediction_test = model.predict(X_test)\n",
    "prediction_train = model.predict(X_train)\n",
    "    \n",
    "print(\"Accuracy of a document-level:\\n\")\n",
    "print(\"Test Loss:\", metrics.hamming_loss(Y_test, prediction_test))\n",
    "print(\"Test Accuracy:\", accuracy_score(prediction_test, Y_test) * 100)\n",
    "\n",
    "print(\"Train Loss:\", metrics.hamming_loss(Y_train, prediction_train))\n",
    "print(\"Train Accuracy:\", accuracy_score(prediction_train, Y_train) * 100)\n",
    "\n",
    "print(\"\\n\\nAccuracy of each genre class:\\n\")\n",
    "y = [list(i) for i in zip(*Y_test)]\n",
    "y_hat = [list(i) for i in zip(*prediction_test.toarray())]\n",
    "label = 0\n",
    "for i, j in zip(y, y_hat):\n",
    "    cnt = 0\n",
    "    for idx in range(len(y[0])):\n",
    "        if i[idx] == j[idx]:\n",
    "            cnt += 1\n",
    "    print(str(genres[label]) + ': ' + str((cnt / len(y[0])) * 100))\n",
    "    label += 1\n",
    "    \n",
    "#from sklearn.metrics import multilabel_confusion_matrix\n",
    "#print(multilabel_confusion_matrix(Y_test, prediction_test))"
   ]
  },
  {
   "cell_type": "markdown",
   "metadata": {},
   "source": [
    "## Train/Test data distribution of each class\n",
    "![data_split](png/data_split.png)\n",
    "\n",
    "## Results\n",
    "  \n",
    "  - **Expected performance of classifier**\n",
    "    - When I quantified the labels of each document, there are thousands of label combinations. The combination of 24 labels can be appeared per document = 2<sup>24</sup> = 16,777,216. In this data set, each document has the number of 0 to 8 labels of a total of 24 labels. It seemed like lots of ambiguity is exist(like in case of the relationship of drama, romance, and comedy) even by human-annotating. For those reasons, I expected that the performance will be very low accuracy(20 ~ 30%) with the \"Accuracy of a document-level\" metric and it was lower than I expected(12.90%).\n",
    "  - **Evaluation metrics on appropriate purpose**\n",
    "    - The evaluation depends on the needs: In an example, if the task is the multi-label classification of factors for serious disease, the above \"Accuracy of a document-level\" evaluation metric is the right method.\n",
    "    - If the requirements are N-best of labels or some other requirements, the evaluation metric should be fit with the task. The above \"Accuracy of each class\" shows one of the other evaluation metrics. However, in this task, the data imbalance of each class makes the difficulty to figure out the exact performance with \"Accuracy of each class\".\n",
    "    - In the above code block, the commented out code is one of evaluation metrics to show precision and recall using a confusion matrix. However, It calculates binary classification results of each class for the multi-label tasks and this are not enough to analyze the relationship of each label's performance. So, in the next step, I tried to show results deeply with the probability heatmap.\n",
    "    - When the performance of the test set meets with the appropriate metrics, I evaluate by averaging the K-fold cross-validation."
   ]
  },
  {
   "cell_type": "code",
   "execution_count": 16,
   "metadata": {},
   "outputs": [
    {
     "data": {
      "image/png": "[encoded data removed]",
      "text/plain": [
       "<Figure size 720x576 with 2 Axes>"
      ]
     },
     "metadata": {
      "needs_background": "light"
     },
     "output_type": "display_data"
    }
   ],
   "source": [
    "\"\"\" Probability distribution of genre labels in each row\n",
    "\"\"\"\n",
    "prob_train = model.predict_proba(X_train).toarray()\n",
    "matrix = []\n",
    "for col in zip(*Y_train):\n",
    "    idx = [i for i, x in enumerate(col) if x == 1]\n",
    "    data = []\n",
    "    for i in idx:\n",
    "        data.append(prob_train[i])\n",
    "    matrix.append([sum(x) / len(idx) for x in zip(*data)])\n",
    "fig, ax = plt.subplots(figsize=(10,8))\n",
    "ax = sns.heatmap(np.asarray(matrix), yticklabels=genres, cmap=\"YlGnBu\", square=True, ax=ax)\n",
    "ax.tick_params(top=True, bottom=False, labeltop=True, labelbottom=False)\n",
    "ax.set_xticklabels(rotation=90, labels=genres)\n",
    "fig.tight_layout()"
   ]
  },
  {
   "cell_type": "markdown",
   "metadata": {},
   "source": [
    "## Discussion\n",
    "\n",
    "  - **Probability distribution heatmap** \n",
    "    - Since this task is multi-labeling, the only way to get a confusion matrix is to calculate it from each label's binary classification results. However, this can not show the relationship between each label's results. \n",
    "    - What I did above code is to get the SVM output probability of each 24 labels for each sample, normalize it and showed with the heatmap. I <U>sum those 24 output probability for each sample a given label occurs in. Then I divide it by the number of times the label occurred to normalize it</U>. The columns are the labels predicted. The rows will the average of the normalized predictions of the samples which include that label.\n",
    "    - In this experiment, our test data is too small to see the accurate probability distribution across all classes, I represented it from the result of the train data.\n",
    "      **e.g.** <U>The row \"mystery\" will contain the average predictions for each label of all the samples containing the label \"mystery\"</U>\n",
    "    - The color from yellow to blue represents the degree of ambiguity on each label.\n",
    "    - When we see the row \"mystery\", \"horror\" and \"crime\", the \"thriller\" column fills with a strong blue color. It means that when the system predicts each \"mystery\", \"horror\" and \"crime\" label, It is highly confused with \"thriller\". \n",
    "    - The column \"drama\" shows that this label has high ambiguity overall with all others. This draws that the 'drama' class has too weak characteristic to be one of the independent class.\n",
    "      \n",
    "  - **Most signigicant characteristics**\n",
    "    - I listed up the features that have high-scored chi-square value and found that the <U>key features have different attributes depending on the most relevant class</U>. As an example, in the <U>'music' class, it seems that proper nouns are important</U>. there are many NE features which are the name of a composer like 'Mozart/PERSON'. It is shown that the uni-gram with POS tagged features revealed a famous place of music like 'Vienna/GSP' or the name of famous people in the music department like Toscanini/NNP. The bi-gram feature captured important compound words like 'berlin_philharmonic'. Also, the <U>'war' class showed similar patterns</U>. In the 'war' class, the examples of key features were the name involved in wars like the 'Adolf/PERSON' and 'Nazi_Party/ORGANIZATION'. <U>Relatively, in the 'romance' or 'drama' genre were represented with bi-gram textual features more</U> extracted from the dialog like 'i_love', 'love_with', etc. Therefore, to fit well for various classes, I think the most import thing is to <U>try various features that have similar or different characteristics and verify them based on the target data</U>. If the one feature is too dominantly control the model, it means that the others are useless. In this case, if the performance is already met we can reduce the dimension of features. otherwise, we need to process feature engineering again for machine learning.\n"
   ]
  },
  {
   "cell_type": "markdown",
   "metadata": {},
   "source": [
    "## Future work\n",
    "\n",
    "- **Propose other sorts of characteristics to maximize the performance**\n",
    "    - If I have enough data, I would add the <U>dependency parsed features</U>. For the classes which use the bi-gram textual features more from the dialog('romance', 'drama', etc.), it seems that the context of the dialog is important. I would extract pairs of a governor and a dependent from dependency parsed texts. It makes reflect the global contexts to the model from each sentence of a document. Since some classes'('music', 'war', etc.) key features were proper nouns, I would strengthen these features using <U>LDA topic modeling</U> to build topic words of each class. The extracted topic words could be added as features or used as weights for the features.\n",
    "\n",
    "- **Consider using other parts of the corpus or outside sources to increase performance**\n",
    "    - I would extract <U>movie titles from the metadata corpus</U>. In most cases, movie titles are represented by text that is closely related to the movie content. It could be used as features itself or used as weights to other text features that have high similarity with title words. \n",
    "    - About using the outside sources, I would use <U>contextualized word vectors such as ELMo, BERT or Flair to make a document embedding vector</U>. To be specific, after extracting important sentences within a document, I would make each sentence vector with the contextualized word vectors and a document vector with those sentence vectors. \n",
    "    - Also, I could try to use similar but different domain's data which has labels like drama scripts to adapt it to the target model. This is known as <U>transfer learning</U>. \n",
    "    - In the aspect of models, I simply try to build an <U>ensemble model</U>. Since some of the classes have ambiguities, I would try hierarchical classifiers that classify by combined classes roughly and separate them by the final targeted number of labels using heuristics or other statistical methods at the next step."
   ]
  }
 ],
 "metadata": {
  "kernelspec": {
   "display_name": "Python 3",
   "language": "python",
   "name": "python3"
  },
  "language_info": {
   "codemirror_mode": {
    "name": "ipython",
    "version": 3
   },
   "file_extension": ".py",
   "mimetype": "text/x-python",
   "name": "python",
   "nbconvert_exporter": "python",
   "pygments_lexer": "ipython3",
   "version": "3.7.4"
  }
 },
 "nbformat": 4,
 "nbformat_minor": 2
}
